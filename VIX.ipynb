{
 "cells": [
  {
   "cell_type": "markdown",
   "id": "8f26792b",
   "metadata": {},
   "source": [
    "<h1><b><font size=\"6\">VIX 實作，期間為 2019/01/02 ~ 2019/06/28</font></b></h1>"
   ]
  },
  {
   "cell_type": "markdown",
   "id": "35dae09d",
   "metadata": {},
   "source": [
    "<h1><b><font size=\"\">讀取需要的模組</font></b></h1>"
   ]
  },
  {
   "cell_type": "code",
   "execution_count": 27,
   "id": "feaf66ef",
   "metadata": {},
   "outputs": [],
   "source": [
    "import pandas as pd\n",
    "from scipy.interpolate import CubicSpline\n",
    "from math import exp, sqrt, log\n",
    "from tqdm.notebook import tqdm\n",
    "## 使 tqdm 支持 Pandas\n",
    "tqdm.pandas()\n",
    "import warnings\n",
    "warnings.filterwarnings('ignore', message=\"A value is trying to be set on a copy of a slice from a DataFrame\")\n",
    "from IPython.display import Markdown"
   ]
  },
  {
   "cell_type": "markdown",
   "id": "71215238",
   "metadata": {},
   "source": [
    "<h1><b><font size=\"\">讀取資料及資料預覽</font></b></h1>"
   ]
  },
  {
   "cell_type": "markdown",
   "id": "487a24e4",
   "metadata": {},
   "source": [
    "<b><font size=\"4\">下述為自己進程式碼前處理的變數。<br></font></b>\n",
    "<b><font size=\"\">- 'am_settlement' 標籤用來辨別是 SPX/SPXW，因為到期時間差六個半小時。<br></font></b>\n",
    "<b><font size=\"\">- 'DTE' 是 (exdate - date)，當天距離到期日之天數。<br></font></b>\n",
    "<b><font size=\"\">- 'week_end_flag' 考慮到期間內唯一一個週五假日 (Good Friday) 後，決定是否為一週工作日的最後一天。</font></b>"
   ]
  },
  {
   "cell_type": "code",
   "execution_count": 28,
   "id": "3e8f5d61",
   "metadata": {},
   "outputs": [
    {
     "name": "stdout",
     "output_type": "stream",
     "text": [
      "<class 'pandas.core.frame.DataFrame'>\n",
      "RangeIndex: 1017288 entries, 0 to 1017287\n",
      "Data columns (total 9 columns):\n",
      " #   Column         Non-Null Count    Dtype         \n",
      "---  ------         --------------    -----         \n",
      " 0   date           1017288 non-null  datetime64[ns]\n",
      " 1   strike         1017288 non-null  int64         \n",
      " 2   exdate         1017288 non-null  datetime64[ns]\n",
      " 3   cp_flag        1017288 non-null  bool          \n",
      " 4   best_bid       1017288 non-null  float64       \n",
      " 5   best_offer     1017288 non-null  float64       \n",
      " 6   am_settlement  1017288 non-null  bool          \n",
      " 7   DTE            1017288 non-null  int64         \n",
      " 8   week_end_flag  1017288 non-null  bool          \n",
      "dtypes: bool(3), datetime64[ns](2), float64(2), int64(2)\n",
      "memory usage: 49.5 MB\n",
      "None\n",
      "        date  strike     exdate  cp_flag  best_bid  best_offer  am_settlement  \\\n",
      "0 2019-01-02    1000 2019-01-18     True    1502.8      1508.2           True   \n",
      "1 2019-01-02    1025 2019-01-18     True    1477.8      1483.2           True   \n",
      "2 2019-01-02    1050 2019-01-18     True    1452.9      1458.2           True   \n",
      "3 2019-01-02    1075 2019-01-18     True    1427.9      1433.3           True   \n",
      "4 2019-01-02    1100 2019-01-18     True    1402.9      1408.3           True   \n",
      "\n",
      "   DTE  week_end_flag  \n",
      "0   16           True  \n",
      "1   16           True  \n",
      "2   16           True  \n",
      "3   16           True  \n",
      "4   16           True  \n"
     ]
    }
   ],
   "source": [
    "## 讀進來的資料是預先整理過到期日不大於 60 天的選擇權們\n",
    "raw_data = pd.read_csv('/Users/changshuowen/112_2/期貨與選擇權市場/VIX/data/option_price.csv')\n",
    "columns = raw_data.columns\n",
    "## 對資料欄位做相應處理 (指定欄位型別可節省記憶體空間)\n",
    "raw_data['date'] = pd.to_datetime(raw_data['date'])\n",
    "raw_data['exdate'] = pd.to_datetime(raw_data['exdate'])\n",
    "raw_data['cp_flag'] = raw_data['cp_flag'].map({'C': 1, 'P': 0}).astype(bool)\n",
    "raw_data['am_settlement'] = raw_data['am_settlement'].astype(bool)\n",
    "raw_data['week_end_flag'] = raw_data['week_end_flag'].astype(bool)\n",
    "## 檢視資料\n",
    "print(raw_data.info())\n",
    "## date 為當天日期 (obj > datetime)\n",
    "## strike 為履約價 (int)\n",
    "## exdate 為到期日 (obj > datetime)\n",
    "## cp_flag 為買、賣權標籤 C/P (obj > bool) \n",
    "## best_bid 為買方最高出價 (float)\n",
    "## best_offer 為賣方最低報價 (float)\n",
    "## am_settlement 為 SPX/SPXW 標籤 1/0 (int > bool)\n",
    "## DTE 為距到期天數 (int)\n",
    "## week_end_flag 為該選擇權 week-end 到期的標籤 1/0 (int > bool) (本欄是自行處理的資料，利用週五及期間唯一的週五假期 good friday 得出)\n",
    "print(raw_data.head())"
   ]
  },
  {
   "cell_type": "markdown",
   "id": "0af77f3d",
   "metadata": {},
   "source": [
    "<h1><b><font size=\"\">資料篩選 (週尾到期)、資料拆分 (near-term / next-term)</font></b></h1>"
   ]
  },
  {
   "cell_type": "markdown",
   "id": "4f8c2666",
   "metadata": {},
   "source": [
    "<b><font size=\"4\">VIX 選擇權篩選條件：<br></font></b>\n",
    "![screenshot](../screenshots/1.png)\n",
    "<b><font size=\"4\"><br>near-term/next-term 選擇要點：<br></font></b>\n",
    "![screenshot](../screenshots/2.png)"
   ]
  },
  {
   "cell_type": "code",
   "execution_count": 29,
   "id": "9bd59f84",
   "metadata": {
    "scrolled": false
   },
   "outputs": [
    {
     "data": {
      "application/vnd.jupyter.widget-view+json": {
       "model_id": "c5a1a8e72db74f26b153e957b8a8dd14",
       "version_major": 2,
       "version_minor": 0
      },
      "text/plain": [
       "  0%|          | 0/124 [00:00<?, ?it/s]"
      ]
     },
     "metadata": {},
     "output_type": "display_data"
    },
    {
     "data": {
      "application/vnd.jupyter.widget-view+json": {
       "model_id": "ff6348a9424b410abfab729689395bf2",
       "version_major": 2,
       "version_minor": 0
      },
      "text/plain": [
       "  0%|          | 0/124 [00:00<?, ?it/s]"
      ]
     },
     "metadata": {},
     "output_type": "display_data"
    },
    {
     "name": "stdout",
     "output_type": "stream",
     "text": [
      "            date  DTE\n",
      "0     2019-01-02   30\n",
      "1     2019-01-02   30\n",
      "2     2019-01-02   30\n",
      "3     2019-01-02   30\n",
      "4     2019-01-02   30\n",
      "...          ...  ...\n",
      "73785 2019-06-28   28\n",
      "73786 2019-06-28   28\n",
      "73787 2019-06-28   28\n",
      "73788 2019-06-28   28\n",
      "73789 2019-06-28   28\n",
      "\n",
      "[73790 rows x 2 columns]\n",
      "            date  DTE\n",
      "0     2019-01-02   30\n",
      "1     2019-01-02   30\n",
      "2     2019-01-02   30\n",
      "3     2019-01-02   30\n",
      "4     2019-01-02   30\n",
      "...          ...  ...\n",
      "73337 2019-06-28   35\n",
      "73338 2019-06-28   35\n",
      "73339 2019-06-28   35\n",
      "73340 2019-06-28   35\n",
      "73341 2019-06-28   35\n",
      "\n",
      "[73342 rows x 2 columns]\n"
     ]
    }
   ],
   "source": [
    "## 利用 week_end_flag 從整組資料中篩選週尾到期的選擇權\n",
    "raw_data = raw_data[raw_data['week_end_flag'] == 1]\n",
    "## 定義到期日篩選函數得到 near-term, next-term 資料集\n",
    "def filter_dte_near(group):\n",
    "    closest_below_30 = group[group['DTE'] <= 30]['DTE'].max()\n",
    "    return group[group['DTE'] == closest_below_30].reset_index(drop=True)\n",
    "\n",
    "def filter_dte_next(group):\n",
    "    closest_above_30 = group[group['DTE'] >= 30]['DTE'].min()\n",
    "    return group[group['DTE'] == closest_above_30].reset_index(drop=True)\n",
    "\n",
    "near_data = raw_data.groupby('date').progress_apply(filter_dte_near).reset_index(drop=True)\n",
    "next_data = raw_data.groupby('date').progress_apply(filter_dte_next).reset_index(drop=True)\n",
    "\n",
    "print(near_data[['date', 'DTE']])\n",
    "print(next_data[['date', 'DTE']])"
   ]
  },
  {
   "cell_type": "markdown",
   "id": "fa9b0e48",
   "metadata": {},
   "source": [
    "<h1><b><font size=\"\">計算內外插後的殖利率 (內外插會花比較多時間)</font></b></h1>"
   ]
  },
  {
   "cell_type": "markdown",
   "id": "11001cd4",
   "metadata": {},
   "source": [
    "<b><font size=\"4\">利用套件得出 semi-annual yield，再取連續複利率</font></b>"
   ]
  },
  {
   "cell_type": "code",
   "execution_count": 30,
   "id": "52374af3",
   "metadata": {},
   "outputs": [
    {
     "data": {
      "application/vnd.jupyter.widget-view+json": {
       "model_id": "dda9688132674bb8907b9803c3e5eb1c",
       "version_major": 2,
       "version_minor": 0
      },
      "text/plain": [
       "  0%|          | 0/73790 [00:00<?, ?it/s]"
      ]
     },
     "metadata": {},
     "output_type": "display_data"
    },
    {
     "data": {
      "application/vnd.jupyter.widget-view+json": {
       "model_id": "1f7130660f8b43b79720b870bac70079",
       "version_major": 2,
       "version_minor": 0
      },
      "text/plain": [
       "  0%|          | 0/73342 [00:00<?, ?it/s]"
      ]
     },
     "metadata": {},
     "output_type": "display_data"
    },
    {
     "name": "stdout",
     "output_type": "stream",
     "text": [
      "            date   CS_rate\n",
      "0     2019-01-02  1.576915\n",
      "1     2019-01-02  1.576915\n",
      "2     2019-01-02  1.576915\n",
      "3     2019-01-02  1.576915\n",
      "4     2019-01-02  1.576915\n",
      "...          ...       ...\n",
      "73785 2019-06-28  1.475285\n",
      "73786 2019-06-28  1.475285\n",
      "73787 2019-06-28  1.475285\n",
      "73788 2019-06-28  1.475285\n",
      "73789 2019-06-28  1.475285\n",
      "\n",
      "[73790 rows x 2 columns]\n",
      "            date   CS_rate\n",
      "0     2019-01-02  1.576915\n",
      "1     2019-01-02  1.576915\n",
      "2     2019-01-02  1.576915\n",
      "3     2019-01-02  1.576915\n",
      "4     2019-01-02  1.576915\n",
      "...          ...       ...\n",
      "73337 2019-06-28  1.471934\n",
      "73338 2019-06-28  1.471934\n",
      "73339 2019-06-28  1.471934\n",
      "73340 2019-06-28  1.471934\n",
      "73341 2019-06-28  1.471934\n",
      "\n",
      "[73342 rows x 2 columns]\n"
     ]
    }
   ],
   "source": [
    "## 讀進來的資料是原始 UST yield curve 殖利率 (單位為 %)\n",
    "USTrate_data = pd.read_csv('/Users/changshuowen/112_2/期貨與選擇權市場/VIX/data/2019UST_Yield.csv')\n",
    "## 對資料欄位做相應處理 (轉成日期格式、殖利率保留 1M, 2M 的即可)\n",
    "USTrate_data['Date'] = pd.to_datetime(USTrate_data['Date'])\n",
    "USTrate_data = USTrate_data.iloc[:, :3]\n",
    "## 將兩筆資料 map 起來\n",
    "df_near = near_data.merge(USTrate_data[['Date', '1 Mo', '2 Mo']], left_on='date', right_on='Date', how='left')\n",
    "df_next = next_data.merge(USTrate_data[['Date', '1 Mo', '2 Mo']], left_on='date', right_on='Date', how='left')\n",
    "## 創建 Natural Cubic Spline 計算函數\n",
    "def CS_rate(row):\n",
    "    r1, r2 = row['1 Mo'], row['2 Mo']\n",
    "    cs = CubicSpline([30, 60], [r1, r2])\n",
    "    r = log((1 + cs(row['DTE']) * 0.5) ** 2)\n",
    "    return r\n",
    "## 套用函數\n",
    "df_near['CS_rate'] = df_near.progress_apply(CS_rate, axis=1)\n",
    "df_next['CS_rate'] = df_next.progress_apply(CS_rate, axis=1)\n",
    "## 刪除殖利率資料\n",
    "df_near = df_near.drop(columns=['Date', '1 Mo', '2 Mo'])\n",
    "df_next = df_next.drop(columns=['Date', '1 Mo', '2 Mo'])\n",
    "\n",
    "print(df_near[['date', 'CS_rate']])\n",
    "print(df_next[['date', 'CS_rate']])"
   ]
  },
  {
   "cell_type": "markdown",
   "id": "baf35e0d",
   "metadata": {},
   "source": [
    "<h1><b><font size=\"\">計算 T (Time to Expiration) (假設每天的計算時間均為 09:30 a.m.)</font></b></h1>"
   ]
  },
  {
   "cell_type": "markdown",
   "id": "5d8a8c63",
   "metadata": {},
   "source": [
    "<b><font size=\"4\">T 的定義：<br></font></b>\n",
    "![screenshot](../screenshots/3.png)"
   ]
  },
  {
   "cell_type": "code",
   "execution_count": 31,
   "id": "892457e8",
   "metadata": {},
   "outputs": [
    {
     "data": {
      "application/vnd.jupyter.widget-view+json": {
       "model_id": "30305cc201774d31932b4424d8689241",
       "version_major": 2,
       "version_minor": 0
      },
      "text/plain": [
       "  0%|          | 0/73790 [00:00<?, ?it/s]"
      ]
     },
     "metadata": {},
     "output_type": "display_data"
    },
    {
     "data": {
      "application/vnd.jupyter.widget-view+json": {
       "model_id": "91b9deb4224241a7b6cbcf9d18979f43",
       "version_major": 2,
       "version_minor": 0
      },
      "text/plain": [
       "  0%|          | 0/73342 [00:00<?, ?it/s]"
      ]
     },
     "metadata": {},
     "output_type": "display_data"
    },
    {
     "name": "stdout",
     "output_type": "stream",
     "text": [
      "            date  DTE         T\n",
      "0     2019-01-02   30  0.082934\n",
      "1     2019-01-02   30  0.082934\n",
      "2     2019-01-02   30  0.082934\n",
      "3     2019-01-02   30  0.082934\n",
      "4     2019-01-02   30  0.082934\n",
      "...          ...  ...       ...\n",
      "73785 2019-06-28   28  0.077454\n",
      "73786 2019-06-28   28  0.077454\n",
      "73787 2019-06-28   28  0.077454\n",
      "73788 2019-06-28   28  0.077454\n",
      "73789 2019-06-28   28  0.077454\n",
      "\n",
      "[73790 rows x 3 columns]\n",
      "            date  DTE         T\n",
      "0     2019-01-02   30  0.082934\n",
      "1     2019-01-02   30  0.082934\n",
      "2     2019-01-02   30  0.082934\n",
      "3     2019-01-02   30  0.082934\n",
      "4     2019-01-02   30  0.082934\n",
      "...          ...  ...       ...\n",
      "73337 2019-06-28   35  0.096632\n",
      "73338 2019-06-28   35  0.096632\n",
      "73339 2019-06-28   35  0.096632\n",
      "73340 2019-06-28   35  0.096632\n",
      "73341 2019-06-28   35  0.096632\n",
      "\n",
      "[73342 rows x 3 columns]\n"
     ]
    }
   ],
   "source": [
    "## 創建TE計算函數\n",
    "def TE(row):\n",
    "    time_to_exp = row['DTE'] * 1440 if row['am_settlement'] else row['DTE'] * 1440 + 390\n",
    "    return time_to_exp/525600\n",
    "## 套用函數\n",
    "df_near['T'] = df_near.progress_apply(TE, axis=1)\n",
    "df_next['T'] = df_next.progress_apply(TE, axis=1)\n",
    "\n",
    "print(df_near[['date', 'DTE', 'T']])\n",
    "print(df_next[['date', 'DTE', 'T']])"
   ]
  },
  {
   "cell_type": "markdown",
   "id": "ecb51b22",
   "metadata": {},
   "source": [
    "<h1><b><font size=\"\">計算 ATM (ATM Strike)</font></b></h1>"
   ]
  },
  {
   "cell_type": "markdown",
   "id": "61f1df04",
   "metadata": {},
   "source": [
    "<b><font size=\"4\">ATM Strike 定義：<br></font></b>\n",
    "<font size=\"3\">- The absolute difference between the call price and the put price is smallest.<br></font>\n",
    "<font size=\"3\">- select the lowest if there are multiple put-call pairs with the same minimum absolute difference value.<br></font>\n",
    "<font size=\"3\">- Series with null quotes or bid price higher than ask price are not candidates to be the ATM strike.<br></font>"
   ]
  },
  {
   "cell_type": "code",
   "execution_count": 32,
   "id": "3204068c",
   "metadata": {},
   "outputs": [
    {
     "data": {
      "application/vnd.jupyter.widget-view+json": {
       "model_id": "0044779853184814830fce4c21d4f5d3",
       "version_major": 2,
       "version_minor": 0
      },
      "text/plain": [
       "  0%|          | 0/73790 [00:00<?, ?it/s]"
      ]
     },
     "metadata": {},
     "output_type": "display_data"
    },
    {
     "data": {
      "application/vnd.jupyter.widget-view+json": {
       "model_id": "8271dbedab274ab6a5aec2151a9f09e5",
       "version_major": 2,
       "version_minor": 0
      },
      "text/plain": [
       "  0%|          | 0/73342 [00:00<?, ?it/s]"
      ]
     },
     "metadata": {},
     "output_type": "display_data"
    },
    {
     "data": {
      "application/vnd.jupyter.widget-view+json": {
       "model_id": "e658d46eb1c442bd9cdd3ab4e1b77f7a",
       "version_major": 2,
       "version_minor": 0
      },
      "text/plain": [
       "  0%|          | 0/124 [00:00<?, ?it/s]"
      ]
     },
     "metadata": {},
     "output_type": "display_data"
    },
    {
     "data": {
      "application/vnd.jupyter.widget-view+json": {
       "model_id": "a4d05d288dd44884a918444bbe663953",
       "version_major": 2,
       "version_minor": 0
      },
      "text/plain": [
       "  0%|          | 0/124 [00:00<?, ?it/s]"
      ]
     },
     "metadata": {},
     "output_type": "display_data"
    },
    {
     "name": "stdout",
     "output_type": "stream",
     "text": [
      "            date  strike  mid_price   ATM  min_diff\n",
      "0     2019-01-02     100   2402.900  2510     -1.55\n",
      "1     2019-01-02    1000   1505.200  2510     -1.55\n",
      "2     2019-01-02    1025   1480.050  2510     -1.55\n",
      "3     2019-01-02    1050   1455.300  2510     -1.55\n",
      "4     2019-01-02    1075   1430.400  2510     -1.55\n",
      "...          ...     ...        ...   ...       ...\n",
      "73785 2019-06-28    3800    854.600  2945      0.00\n",
      "73786 2019-06-28     800      0.025  2945      0.00\n",
      "73787 2019-06-28     850      0.025  2945      0.00\n",
      "73788 2019-06-28     900      0.025  2945      0.00\n",
      "73789 2019-06-28     950      0.025  2945      0.00\n",
      "\n",
      "[73790 rows x 5 columns]\n",
      "            date  strike  mid_price   ATM  min_diff\n",
      "0     2019-01-02     100   2402.900  2510     -1.55\n",
      "1     2019-01-02    1000   1505.200  2510     -1.55\n",
      "2     2019-01-02    1025   1480.050  2510     -1.55\n",
      "3     2019-01-02    1050   1455.300  2510     -1.55\n",
      "4     2019-01-02    1075   1430.400  2510     -1.55\n",
      "...          ...     ...        ...   ...       ...\n",
      "73337 2019-06-28    3800    853.500  2945     -0.40\n",
      "73338 2019-06-28     800      0.025  2945     -0.40\n",
      "73339 2019-06-28     850      0.025  2945     -0.40\n",
      "73340 2019-06-28     900      0.025  2945     -0.40\n",
      "73341 2019-06-28     950      0.025  2945     -0.40\n",
      "\n",
      "[73342 rows x 5 columns]\n"
     ]
    }
   ],
   "source": [
    "## 首先計算 Mid Price\n",
    "df_near['mid_price'] = (df_near['best_bid'] + df_near['best_offer']) * 0.5\n",
    "df_next['mid_price'] = (df_next['best_bid'] + df_next['best_offer']) * 0.5\n",
    "new_index = ['date', 'strike', 'exdate', 'cp_flag', 'best_bid', 'best_offer', 'mid_price', 'am_settlement', 'DTE', 'week_end_flag', 'CS_rate', 'T']\n",
    "df_near = df_near.reindex(columns=new_index)\n",
    "df_next = df_next.reindex(columns=new_index)\n",
    "## 方法論有提到，成為 ATM candidate 的條件必須是 bid <= ask，或是 bid != 0\n",
    "## 創建ATM_candidate_flag計算函數\n",
    "def ATM_candidate_flag(row):\n",
    "    ATM_candidate_flag = (row['best_bid'] <= row['best_offer']) & (row['best_bid'] != 0)\n",
    "    return ATM_candidate_flag\n",
    "## 套用函數\n",
    "df_near['ATM_candidate_flag'] = df_near.progress_apply(ATM_candidate_flag, axis=1)\n",
    "df_next['ATM_candidate_flag'] = df_next.progress_apply(ATM_candidate_flag, axis=1)\n",
    "## 在計算同一天內 Call/Put mid_price 的最小差值\n",
    "### 製作一個函數，輸入值為 df_near or df_next，輸出為一個新增 ATM, min_diff 欄位的 DataFrame\n",
    "def gen_mindiff(df: pd.DataFrame) -> pd.DataFrame:\n",
    "    # 將資料依照日期分組\n",
    "    groupbydate_df = df.groupby('date')\n",
    "    # 初始化空清單存放每組處理過的資料\n",
    "    results = []\n",
    "    # 對每組日期計算差值\n",
    "    for date, group_df in tqdm(groupbydate_df):\n",
    "        # 利用到 cp_flag 辨別買賣權，以及 ATM_candidate_flag 來篩過濾無法成為候選 ATM 的履約價\n",
    "        call_df = group_df[(group_df['cp_flag'] == True) & (group_df['ATM_candidate_flag'] == True)]\n",
    "        put_df = group_df[(group_df['cp_flag'] == False) & (group_df['ATM_candidate_flag'] == True)]\n",
    "        if not call_df.empty and not put_df.empty:\n",
    "            # 先算不同履約價下的絕對差值\n",
    "            result = abs(call_df.set_index('strike')['mid_price'] - put_df.set_index('strike')['mid_price']).reset_index()\n",
    "            # 另外算不同履約價下的買賣價差 (Call - Put)，並合併兩者\n",
    "            mindiff_result = (call_df.set_index('strike')['mid_price'] - put_df.set_index('strike')['mid_price']).reset_index()\n",
    "            result['min_diff'] = mindiff_result['mid_price']\n",
    "            # 依照履約價升冪排序，因為取最小值時若相同的話會取道履約價最小那個，符合方法規定\n",
    "            result = result.sort_values(by='strike', ascending=True)\n",
    "            # 得到最小 Abs(Call - Put) 的index，並得到 ATM, (Call - Put)\n",
    "            min_index = result['mid_price'].idxmin()\n",
    "            ATM = result.loc[min_index, 'strike']\n",
    "            min_diff = result.loc[min_index, 'min_diff']\n",
    "            ATM_df = pd.DataFrame({'date': [date], 'ATM': [ATM], 'min_diff': [min_diff]})\n",
    "            results.append(ATM_df)\n",
    "    # 將結果合併為一筆資料\n",
    "    final_result = pd.concat(results)\n",
    "    # 接回原資料，利用日期做索引\n",
    "    out_df = pd.merge(df, final_result, on=['date'], how='left')\n",
    "    return out_df\n",
    "### 利用函數計算每天的 ATM\n",
    "df_near = gen_mindiff(df_near)\n",
    "df_next = gen_mindiff(df_next)\n",
    "\n",
    "print(df_near[['date', 'strike', 'mid_price', 'ATM', 'min_diff']])\n",
    "print(df_next[['date', 'strike', 'mid_price', 'ATM', 'min_diff']])"
   ]
  },
  {
   "cell_type": "markdown",
   "id": "17a6bf3d",
   "metadata": {},
   "source": [
    "<h1><b><font size=\"\">計算 F、K_0 (Forward Price、strike price equal to or immediately below F)</font></b></h1>"
   ]
  },
  {
   "cell_type": "markdown",
   "id": "91a0593d",
   "metadata": {},
   "source": [
    "![screenshot](../screenshots/4.png)"
   ]
  },
  {
   "cell_type": "code",
   "execution_count": 33,
   "id": "27597d72",
   "metadata": {},
   "outputs": [
    {
     "data": {
      "application/vnd.jupyter.widget-view+json": {
       "model_id": "82e42ae2cd5342b69f05b1b20d786253",
       "version_major": 2,
       "version_minor": 0
      },
      "text/plain": [
       "  0%|          | 0/73790 [00:00<?, ?it/s]"
      ]
     },
     "metadata": {},
     "output_type": "display_data"
    },
    {
     "data": {
      "application/vnd.jupyter.widget-view+json": {
       "model_id": "755ac25c88e340278ff891d986e68071",
       "version_major": 2,
       "version_minor": 0
      },
      "text/plain": [
       "  0%|          | 0/73342 [00:00<?, ?it/s]"
      ]
     },
     "metadata": {},
     "output_type": "display_data"
    },
    {
     "data": {
      "application/vnd.jupyter.widget-view+json": {
       "model_id": "6d9067b78a7d4917b77a291e1a5c8a14",
       "version_major": 2,
       "version_minor": 0
      },
      "text/plain": [
       "  0%|          | 0/124 [00:00<?, ?it/s]"
      ]
     },
     "metadata": {},
     "output_type": "display_data"
    },
    {
     "data": {
      "application/vnd.jupyter.widget-view+json": {
       "model_id": "2e1268155d664db29f09b83352a6dfd2",
       "version_major": 2,
       "version_minor": 0
      },
      "text/plain": [
       "  0%|          | 0/124 [00:00<?, ?it/s]"
      ]
     },
     "metadata": {},
     "output_type": "display_data"
    },
    {
     "name": "stdout",
     "output_type": "stream",
     "text": [
      "            date  strike  min_diff          F   K_0\n",
      "0     2019-01-02     100     -1.55  2508.2334  2505\n",
      "1     2019-01-02    1000     -1.55  2508.2334  2505\n",
      "2     2019-01-02    1025     -1.55  2508.2334  2505\n",
      "3     2019-01-02    1050     -1.55  2508.2334  2505\n",
      "4     2019-01-02    1075     -1.55  2508.2334  2505\n",
      "...          ...     ...       ...        ...   ...\n",
      "73785 2019-06-28    3800      0.00  2945.0000  2945\n",
      "73786 2019-06-28     800      0.00  2945.0000  2945\n",
      "73787 2019-06-28     850      0.00  2945.0000  2945\n",
      "73788 2019-06-28     900      0.00  2945.0000  2945\n",
      "73789 2019-06-28     950      0.00  2945.0000  2945\n",
      "\n",
      "[73790 rows x 5 columns]\n",
      "            date  strike  min_diff          F   K_0\n",
      "0     2019-01-02     100     -1.55  2508.2334  2505\n",
      "1     2019-01-02    1000     -1.55  2508.2334  2505\n",
      "2     2019-01-02    1025     -1.55  2508.2334  2505\n",
      "3     2019-01-02    1050     -1.55  2508.2334  2505\n",
      "4     2019-01-02    1075     -1.55  2508.2334  2505\n",
      "...          ...     ...       ...        ...   ...\n",
      "73337 2019-06-28    3800     -0.40  2944.5389  2940\n",
      "73338 2019-06-28     800     -0.40  2944.5389  2940\n",
      "73339 2019-06-28     850     -0.40  2944.5389  2940\n",
      "73340 2019-06-28     900     -0.40  2944.5389  2940\n",
      "73341 2019-06-28     950     -0.40  2944.5389  2940\n",
      "\n",
      "[73342 rows x 5 columns]\n"
     ]
    }
   ],
   "source": [
    "## 創建Fwrd計算函數\n",
    "def Fwrd(row):\n",
    "    F = round(row['ATM'] + exp(row['CS_rate'] * row['T']) * row['min_diff'], 4)\n",
    "    return F\n",
    "## 套用函數\n",
    "df_near['F'] = df_near.progress_apply(Fwrd, axis=1)\n",
    "df_next['F'] = df_next.progress_apply(Fwrd, axis=1)\n",
    "## 製作函數計算 K_0\n",
    "def gen_K0(df: pd.DataFrame) -> pd.DataFrame:\n",
    "    # 依照日期分組\n",
    "    grouped = df.groupby('date')\n",
    "    # 初始化清單，裝每天的 K_0\n",
    "    K0_list = []    \n",
    "    # 迭代每個日期\n",
    "    for date, group in tqdm(grouped):\n",
    "        # 獲得該天的 F，因為一天只有一個值，取第一個即可\n",
    "        F = group['F'].iloc[0]\n",
    "        # 找到當天小於 F 最大履約價\n",
    "        K_0 = max(group[group['strike'] <= F]['strike'])\n",
    "        # 創建一個索引資料集\n",
    "        K0_df = pd.DataFrame({'date': [date], 'K_0': [K_0]})\n",
    "        K0_list.append(K0_df)\n",
    "    # 將結果合併為一筆資料\n",
    "    final_result = pd.concat(K0_list)\n",
    "    # 接回原資料，利用日期做索引\n",
    "    out_df = pd.merge(df, final_result, on=['date'], how='left')\n",
    "    return out_df\n",
    "### 利用函數計算每天的 K_0\n",
    "df_near = gen_K0(df_near)\n",
    "df_next = gen_K0(df_next)\n",
    "\n",
    "print(df_near[['date', 'strike', 'min_diff', 'F', 'K_0']])\n",
    "print(df_next[['date', 'strike', 'min_diff', 'F', 'K_0']])"
   ]
  },
  {
   "cell_type": "markdown",
   "id": "d3c06a1e",
   "metadata": {},
   "source": [
    "<h1><b><font size=\"\">Strike Selection & delta_K</font></b></h1>"
   ]
  },
  {
   "cell_type": "markdown",
   "id": "9b9b17a5",
   "metadata": {},
   "source": [
    "<b><font size=\"4\">Strike Selection 定義：<br></font></b>\n",
    "<font size=\"3\">- select both the put and call options with strike price $𝐾_0$.<br></font>\n",
    "<b><font size=\"3\">Put：<br></font></b>\n",
    "<font size=\"3\">- Select out-of-the-money put options with strike prices less than $𝐾_0$.<br></font>\n",
    "<font size=\"3\">- Once two put options with consecutive strike prices are found to have zero bid prices, exclude the observed put option(s) and consider no put options with lower strikes.<br></font>\n",
    "<b><font size=\"3\">Call：<br></font></b>\n",
    "<font size=\"3\">- Select out-of-the-money call options with strike prices greater than $𝐾_0$.<br></font>\n",
    "<font size=\"3\">- Once two call options with consecutive strike prices are found to have zero bid prices, exclude the observed call option(s) and consider no call options with higher strikes.<br></font>"
   ]
  },
  {
   "cell_type": "code",
   "execution_count": 34,
   "id": "92b64652",
   "metadata": {
    "scrolled": true
   },
   "outputs": [
    {
     "data": {
      "application/vnd.jupyter.widget-view+json": {
       "model_id": "07f514766a6f48ebbac9639689bd8fb4",
       "version_major": 2,
       "version_minor": 0
      },
      "text/plain": [
       "  0%|          | 0/124 [00:00<?, ?it/s]"
      ]
     },
     "metadata": {},
     "output_type": "display_data"
    },
    {
     "data": {
      "application/vnd.jupyter.widget-view+json": {
       "model_id": "fa89cd0b10b94c459926bef8733b64e7",
       "version_major": 2,
       "version_minor": 0
      },
      "text/plain": [
       "  0%|          | 0/124 [00:00<?, ?it/s]"
      ]
     },
     "metadata": {},
     "output_type": "display_data"
    },
    {
     "name": "stdout",
     "output_type": "stream",
     "text": [
      "        date  SS_flag  delta_K\n",
      "0 2019-01-02    False      0.0\n",
      "1 2019-01-02    False      0.0\n",
      "2 2019-01-02    False      0.0\n",
      "3 2019-01-02    False      0.0\n",
      "4 2019-01-02    False      0.0\n",
      "          date  SS_flag  delta_K\n",
      "152 2019-01-02     True      5.0\n",
      "153 2019-01-02     True      5.0\n",
      "154 2019-01-02     True      5.0\n",
      "155 2019-01-02     True      5.0\n",
      "156 2019-01-02     True      5.0\n"
     ]
    }
   ],
   "source": [
    "## 製作函數計算 SS_flag & delta_K\n",
    "def gen_SS_flag(df: pd.DataFrame) -> pd.DataFrame:\n",
    "    # 依照日期分組\n",
    "    grouped = df.groupby('date')\n",
    "    # 初始化清單，裝每天的 K_0\n",
    "    K0_list = []    \n",
    "    # 迭代每個日期\n",
    "    for date, group_df in tqdm(grouped):\n",
    "        # 獲得該天的 K_0，因為一天只有一個值，取第一個即可\n",
    "        K_0 = group_df['K_0'].iloc[0]\n",
    "        # 利用到 cp_flag 辨別買賣權，以及 ATM_candidate_flag 來篩過濾無法成為候選 ATM 的履約價\n",
    "        call_df = group_df[(group_df['cp_flag'] == True)].sort_values(by=['strike'], ascending=True).reset_index(drop=True)\n",
    "        put_df = group_df[(group_df['cp_flag'] == False)].sort_values(by=['strike'], ascending=False).reset_index(drop=True)\n",
    "        # 先遍歷 call_df: K 往上走\n",
    "        SS_flag = []\n",
    "        delta_K = []\n",
    "        consec_0_count = 0\n",
    "        for index, row in call_df.iterrows():\n",
    "            # 當履約價大於等於 K_0，且未偵測到前面有連續兩次 0bid 者，才進入後續判定，否則貼標不採納\n",
    "            if ((row['strike'] >= K_0) & (consec_0_count < 2)):\n",
    "                # 當沒有出價時貼標不採納並記錄次數，用來偵測連續兩次 0bid\n",
    "                if (row['best_bid'] == 0):\n",
    "                    consec_0_count += 1\n",
    "                    ans = False\n",
    "                # 通過重重判定才貼採納標\n",
    "                else:\n",
    "                    ans = True\n",
    "            else:\n",
    "                ans = False\n",
    "            SS_flag.append(ans)\n",
    "            # 這個判定式目的在計算 delta_K，有 SS_flag == True 內的頭尾及中間兩種狀況\n",
    "            if (ans):\n",
    "                # 進入這個判定表示是 Selection 的下邊界 (頭)，delta_K = K_(i + 1) - K_i\n",
    "                if (not SS_flag[index - 1]):\n",
    "                    delta_K.append(call_df['strike'][index + 1] - call_df['strike'][index])\n",
    "                # 進入這個判定表示是 Selection 的中間，delta_K = (K_(i + 1) - K_(i - 1)) / 2\n",
    "                else:\n",
    "                    delta_K.append((call_df['strike'][index + 1] - call_df['strike'][index - 1]) * 0.5)\n",
    "            else:\n",
    "                # 進入這個判定表示剛過 Selection 的上邊界 (尾)，修改上一個值為 delta_K = K_(i - 1) - K_(i - 2)，但本格為 0\n",
    "                if (SS_flag[index - 1]):\n",
    "                    delta_K[-1] = call_df['strike'][index - 1] - call_df['strike'][index - 2]\n",
    "                # 進入這就是純不考慮的狀況\n",
    "                delta_K.append(0)\n",
    "        call_df['SS_flag'] = SS_flag\n",
    "        call_df['delta_K'] = delta_K\n",
    "        \n",
    "        # 再遍歷 put_df: K 往下走\n",
    "        SS_flag = []\n",
    "        delta_K = []\n",
    "        consec_0_count = 0\n",
    "        for index, row in put_df.iterrows():\n",
    "            # 當履約價小於等於 K_0，且未偵測到前面有連續兩次 0bid 者，才進入後續判定，否則一切為不採納\n",
    "            if ((row['strike'] <= K_0) & (consec_0_count < 2)):\n",
    "                if (row['best_bid'] == 0):\n",
    "                    consec_0_count += 1\n",
    "                    ans = False\n",
    "                else:\n",
    "                    ans = True\n",
    "            else:\n",
    "                ans = False\n",
    "            SS_flag.append(ans)\n",
    "            # 這個判定式目的在計算 delta_K，有 SS_flag == True 內的頭尾及中間兩種狀況\n",
    "            if (ans):\n",
    "                # 進入這個判定表示是 Selection 的下邊界 (頭)，delta_K = K_i - K_(i + 1)\n",
    "                if (not SS_flag[index - 1]):\n",
    "                    delta_K.append(put_df['strike'][index] - put_df['strike'][index + 1])\n",
    "                # 進入這個判定表示是 Selection 的中間，delta_K = (K_(i - 1) - K_(i + 1)) / 2\n",
    "                else:\n",
    "                    # 2019/01/24 有遇到 Selection 邊界後剛好沒履約價的狀況，造成 KeyError。這邊採下邊界處理方式\n",
    "                    try:\n",
    "                        delta_K.append((put_df['strike'][index - 1] - put_df['strike'][index + 1]) * 0.5)\n",
    "                    except KeyError:\n",
    "                        delta_K.append(put_df['strike'][index - 1] - put_df['strike'][index])\n",
    "            else:\n",
    "                # 進入這個判定表示是 Selection 的上邊界 (尾)，delta_K = K_(i - 1) - K_i\n",
    "                if (SS_flag[index - 1]):\n",
    "                    delta_K[-1] = put_df['strike'][index - 2] - put_df['strike'][index - 1]\n",
    "                # 進入這就是純不考慮的狀況\n",
    "                delta_K.append(0)\n",
    "        put_df['SS_flag'] = SS_flag\n",
    "        put_df['delta_K'] = delta_K\n",
    "\n",
    "        K0_list.append(pd.concat([call_df, put_df], ignore_index=True))\n",
    "\n",
    "    # 將結果合併為一筆資料\n",
    "    final_result = pd.concat(K0_list).sort_values(by=['date', 'cp_flag', 'strike'], ascending=[True, False, True])\n",
    "    return final_result\n",
    "### 利用函數產生每筆資料的 Strike_Seletion_flag\n",
    "df_near = gen_SS_flag(df_near)\n",
    "df_next = gen_SS_flag(df_next)\n",
    "\n",
    "print(df_near[['date', 'SS_flag', 'delta_K']][(df_near['date'] == '2019-01-02') & (df_near['SS_flag'] == False)].head())\n",
    "print(df_near[['date', 'SS_flag', 'delta_K']][(df_near['date'] == '2019-01-02') & (df_near['SS_flag'] == True)].head())"
   ]
  },
  {
   "cell_type": "markdown",
   "id": "497c90be",
   "metadata": {},
   "source": [
    "<h1><b><font size=\"\">計算 Individual Contribution</font></b></h1>"
   ]
  },
  {
   "cell_type": "markdown",
   "id": "9ba77e0a",
   "metadata": {},
   "source": [
    "<b><font size=\"4\">Individual Contribution 定義：(summation 內)<br></font></b>\n",
    "![screenshot](../screenshots/5.png)"
   ]
  },
  {
   "cell_type": "code",
   "execution_count": 35,
   "id": "082a3d5e",
   "metadata": {},
   "outputs": [
    {
     "data": {
      "application/vnd.jupyter.widget-view+json": {
       "model_id": "690bf8cf76ad4a9281a9d39ce6eb10b4",
       "version_major": 2,
       "version_minor": 0
      },
      "text/plain": [
       "  0%|          | 0/73790 [00:00<?, ?it/s]"
      ]
     },
     "metadata": {},
     "output_type": "display_data"
    },
    {
     "data": {
      "application/vnd.jupyter.widget-view+json": {
       "model_id": "125321d8e9cd48399c910bf9414d5a34",
       "version_major": 2,
       "version_minor": 0
      },
      "text/plain": [
       "  0%|          | 0/73342 [00:00<?, ?it/s]"
      ]
     },
     "metadata": {},
     "output_type": "display_data"
    },
    {
     "name": "stdout",
     "output_type": "stream",
     "text": [
      "          date  strike   CS_rate         T  mid_price  delta_K  Contribution\n",
      "152 2019-01-02    2505  1.576915  0.082934      61.20      5.0      0.000056\n",
      "153 2019-01-02    2510  1.576915  0.082934      58.30      5.0      0.000053\n",
      "154 2019-01-02    2515  1.576915  0.082934      55.45      5.0      0.000050\n",
      "155 2019-01-02    2520  1.576915  0.082934      52.70      5.0      0.000047\n",
      "156 2019-01-02    2525  1.576915  0.082934      50.00      5.0      0.000045\n",
      "..         ...     ...       ...       ...        ...      ...           ...\n",
      "283 2019-06-28    2925  1.475285  0.077454      35.20      5.0      0.000023\n",
      "282 2019-06-28    2930  1.475285  0.077454      37.10      5.0      0.000024\n",
      "281 2019-06-28    2935  1.475285  0.077454      38.85      5.0      0.000025\n",
      "280 2019-06-28    2940  1.475285  0.077454      40.60      5.0      0.000026\n",
      "279 2019-06-28    2945  1.475285  0.077454      42.60      5.0      0.000028\n",
      "\n",
      "[32165 rows x 7 columns]\n",
      "          date  strike   CS_rate         T  mid_price  delta_K  Contribution\n",
      "152 2019-01-02    2505  1.576915  0.082934      61.20      5.0      0.000056\n",
      "153 2019-01-02    2510  1.576915  0.082934      58.30      5.0      0.000053\n",
      "154 2019-01-02    2515  1.576915  0.082934      55.45      5.0      0.000050\n",
      "155 2019-01-02    2520  1.576915  0.082934      52.70      5.0      0.000047\n",
      "156 2019-01-02    2525  1.576915  0.082934      50.00      5.0      0.000045\n",
      "..         ...     ...       ...       ...        ...      ...           ...\n",
      "280 2019-06-28    2920  1.471934  0.096632      40.40      5.0      0.000027\n",
      "279 2019-06-28    2925  1.471934  0.096632      42.05      5.0      0.000028\n",
      "278 2019-06-28    2930  1.471934  0.096632      43.75      5.0      0.000029\n",
      "277 2019-06-28    2935  1.471934  0.096632      45.60      5.0      0.000031\n",
      "276 2019-06-28    2940  1.471934  0.096632      47.45      5.0      0.000032\n",
      "\n",
      "[33180 rows x 7 columns]\n"
     ]
    }
   ],
   "source": [
    "## 創建Ind_Cntrb計算函數\n",
    "def Ind_Cntrb(row):\n",
    "    contribution = row['delta_K'] / (row['strike'] ** 2) * exp(row['CS_rate'] * row['T']) * row['mid_price']\n",
    "    return contribution\n",
    "## 套用函數\n",
    "df_near['Contribution'] = df_near.progress_apply(Ind_Cntrb, axis=1)\n",
    "df_next['Contribution'] = df_next.progress_apply(Ind_Cntrb, axis=1)\n",
    "\n",
    "print(df_near[['date', 'strike', 'CS_rate', 'T', 'mid_price', 'delta_K', 'Contribution']][(df_near['SS_flag'] == True)])\n",
    "print(df_next[['date', 'strike', 'CS_rate', 'T', 'mid_price', 'delta_K', 'Contribution']][(df_next['SS_flag'] == True)])"
   ]
  },
  {
   "cell_type": "markdown",
   "id": "a883c86a",
   "metadata": {},
   "source": [
    "<h1><b><font size=\"\">計算 Volatility</font></b></h1>"
   ]
  },
  {
   "cell_type": "markdown",
   "id": "b7b4b4f9",
   "metadata": {},
   "source": [
    "<b><font size=\"4\">Volatility 定義：<br></font></b>\n",
    "![screenshot](../screenshots/6.png)"
   ]
  },
  {
   "cell_type": "code",
   "execution_count": 36,
   "id": "3173011d",
   "metadata": {},
   "outputs": [
    {
     "data": {
      "application/vnd.jupyter.widget-view+json": {
       "model_id": "a668fac494494ac6a413f3fe2bc8099d",
       "version_major": 2,
       "version_minor": 0
      },
      "text/plain": [
       "  0%|          | 0/124 [00:00<?, ?it/s]"
      ]
     },
     "metadata": {},
     "output_type": "display_data"
    },
    {
     "data": {
      "application/vnd.jupyter.widget-view+json": {
       "model_id": "278c3b9cf98e449d89b52387dae3ab5a",
       "version_major": 2,
       "version_minor": 0
      },
      "text/plain": [
       "  0%|          | 0/124 [00:00<?, ?it/s]"
      ]
     },
     "metadata": {},
     "output_type": "display_data"
    },
    {
     "name": "stdout",
     "output_type": "stream",
     "text": [
      "            date       Vol\n",
      "0     2019-01-02  0.062696\n",
      "1     2019-01-02  0.062696\n",
      "2     2019-01-02  0.062696\n",
      "3     2019-01-02  0.062696\n",
      "4     2019-01-02  0.062696\n",
      "...          ...       ...\n",
      "73785 2019-06-28  0.027399\n",
      "73786 2019-06-28  0.027399\n",
      "73787 2019-06-28  0.027399\n",
      "73788 2019-06-28  0.027399\n",
      "73789 2019-06-28  0.027399\n",
      "\n",
      "[73790 rows x 2 columns]\n",
      "            date       Vol\n",
      "0     2019-01-02  0.062696\n",
      "1     2019-01-02  0.062696\n",
      "2     2019-01-02  0.062696\n",
      "3     2019-01-02  0.062696\n",
      "4     2019-01-02  0.062696\n",
      "...          ...       ...\n",
      "73337 2019-06-28  0.029418\n",
      "73338 2019-06-28  0.029418\n",
      "73339 2019-06-28  0.029418\n",
      "73340 2019-06-28  0.029418\n",
      "73341 2019-06-28  0.029418\n",
      "\n",
      "[73342 rows x 2 columns]\n"
     ]
    }
   ],
   "source": [
    "## 製作函數計算 Volatility\n",
    "def Vol_Calc(df: pd.DataFrame) -> pd.DataFrame:\n",
    "    # 依照日期分組\n",
    "    grouped = df.groupby('date')\n",
    "    # 初始化清單，裝每天的 Vol\n",
    "    Vol_list = []\n",
    "    # 迭代每個日期\n",
    "    for date, group_df in tqdm(grouped):\n",
    "        # 獲得該天的 T, F, K_0，因為一天只有一個值，取第一個即可\n",
    "        T = group_df['T'].iloc[0]\n",
    "        F = group_df['F'].iloc[0]\n",
    "        K_0 = group_df['K_0'].iloc[0]\n",
    "        # 將一天內的所有 Contribution 加總\n",
    "        summation = sum(group_df['Contribution'])\n",
    "        # 計算波動率\n",
    "        volatility = 2 / T * summation - 1 / T * (F / K_0 - 1) ** 2\n",
    "        # 創建一個索引資料集\n",
    "        Vol_df = pd.DataFrame({'date': [date], 'Vol': [volatility]})\n",
    "        Vol_list.append(Vol_df)\n",
    "    # 將結果合併為一筆資料\n",
    "    final_result = pd.concat(Vol_list).reset_index(drop=True)\n",
    "    # 接回原資料，利用日期做索引\n",
    "    out_df = pd.merge(df, final_result, on=['date'], how='left')\n",
    "    return out_df\n",
    "### 利用函數產生每筆資料的 Vol\n",
    "df_near = Vol_Calc(df_near)\n",
    "df_next = Vol_Calc(df_next)\n",
    "\n",
    "print(df_near[['date', 'Vol']])\n",
    "print(df_next[['date', 'Vol']])"
   ]
  },
  {
   "cell_type": "markdown",
   "id": "a7087685",
   "metadata": {},
   "source": [
    "<h1><b><font size=\"\">合併資料計算 Interpolated Volatility</font></b></h1>"
   ]
  },
  {
   "cell_type": "markdown",
   "id": "3cfb6d25",
   "metadata": {},
   "source": [
    "<font size=5>$$\\sigma_{int}^2 = \\left\\{ T_1 \\sigma_1^2 \\left[\\frac{M_{T_2} - M_{CM}}{M_{T_2} - M_{T_1}} \\right] + T_2 \\sigma_2^2 \\left[\\frac{M_{CM} - M_{T_1}}{M_{T_2} - M_{T_1}} \\right] \\right\\} \\times \\frac{M_{365}}{M_{CM}}$$</font>\n",
    "\n"
   ]
  },
  {
   "cell_type": "markdown",
   "id": "e4528c47",
   "metadata": {},
   "source": [
    "<font size=5>$$VIX = 100 \\times \\sigma$$</font>"
   ]
  },
  {
   "cell_type": "code",
   "execution_count": 37,
   "id": "3a8e654d",
   "metadata": {},
   "outputs": [
    {
     "data": {
      "application/vnd.jupyter.widget-view+json": {
       "model_id": "5ae3d2136674440f9c1b0a54d0d502ec",
       "version_major": 2,
       "version_minor": 0
      },
      "text/plain": [
       "  0%|          | 0/124 [00:00<?, ?it/s]"
      ]
     },
     "metadata": {},
     "output_type": "display_data"
    },
    {
     "name": "stdout",
     "output_type": "stream",
     "text": [
      "          date        VIX\n",
      "0   2019-01-02  25.039243\n",
      "1   2019-01-03  26.952116\n",
      "2   2019-01-04  22.897534\n",
      "3   2019-01-07  22.661779\n",
      "4   2019-01-08  21.785203\n",
      "..         ...        ...\n",
      "119 2019-06-24  16.438006\n",
      "120 2019-06-25  17.419368\n",
      "121 2019-06-26  17.380352\n",
      "122 2019-06-27  16.985470\n",
      "123 2019-06-28  16.728809\n",
      "\n",
      "[124 rows x 2 columns]\n"
     ]
    }
   ],
   "source": [
    "## 先貼 term 標籤，near/next = True/False\n",
    "df_near['term_flag'] = True\n",
    "df_next['term_flag'] = False\n",
    "## 合併資料\n",
    "df_all = pd.concat([df_near, df_next]).reset_index(drop=True)\n",
    "# df_all.to_csv('/Users/changshuowen/112_2/期貨與選擇權市場/VIX/data/nn_term.csv', index=False)\n",
    "# 依照日期分組\n",
    "grouped = df_all.groupby('date')\n",
    "# 初始化清單，裝每天的 VIX\n",
    "VIX_list = []\n",
    "# 迭代每個日期\n",
    "for date, group_df in tqdm(grouped):\n",
    "    # 利用到 cp_flag 辨別買賣權，以及 ATM_candidate_flag 來篩過濾無法成為候選 ATM 的履約價\n",
    "    groupdf_near = group_df[(group_df['term_flag'] == True)].sort_values(by=['strike'], ascending=True).reset_index(drop=True)\n",
    "    groupdf_next = group_df[(group_df['term_flag'] == False)].sort_values(by=['strike'], ascending=False).reset_index(drop=True)\n",
    "    # 獲得該天的 T_1、T_2、Vol_1、Vol_2，因為一天只有一個值，取第一個即可\n",
    "    T_1 = groupdf_near['T'].iloc[0]\n",
    "    T_2 = groupdf_next['T'].iloc[0]\n",
    "    Vol_1 = groupdf_near['Vol'].iloc[0]\n",
    "    Vol_2 = groupdf_next['Vol'].iloc[0]\n",
    "    M_cm = 60 * 24 * 30\n",
    "    M_365 = 60 * 24 * 365\n",
    "    M_t1 = T_1 * M_365\n",
    "    M_t2 = T_2 * M_365\n",
    "    # 計算 VIX\n",
    "    if (M_t1 == M_t2):\n",
    "        VIX = sqrt(Vol_1) * 100\n",
    "    else:\n",
    "        VIX = 100 * sqrt((T_1 * Vol_1 * ((M_t2 - M_cm) / (M_t2 - M_t1)) + T_2 * Vol_2 * ((M_cm - M_t1) / (M_t2 - M_t1))) * (M_365 / M_cm))\n",
    "    # 創建一個索引資料集\n",
    "    VIX_df = pd.DataFrame({'date': [date], 'VIX': [VIX]})\n",
    "    VIX_list.append(VIX_df)\n",
    "# 將結果合併為一筆資料\n",
    "final_result = pd.concat(VIX_list).reset_index(drop=True)\n",
    "\n",
    "print(final_result)"
   ]
  },
  {
   "cell_type": "markdown",
   "id": "09ec2f04",
   "metadata": {},
   "source": [
    "<h1><b><font size=\"\">驗證結果</font></b></h1>"
   ]
  },
  {
   "cell_type": "markdown",
   "id": "f3de36b5",
   "metadata": {},
   "source": [
    "<b><font size=\"4\">針對 (Johnson, 2017) 建構結果進行比對<br></font></b>"
   ]
  },
  {
   "cell_type": "code",
   "execution_count": 38,
   "id": "906acef2",
   "metadata": {
    "scrolled": false
   },
   "outputs": [
    {
     "data": {
      "application/vnd.jupyter.widget-view+json": {
       "model_id": "8272af5bf5ee43fa9c679ac4890da2b9",
       "version_major": 2,
       "version_minor": 0
      },
      "text/plain": [
       "  0%|          | 0/124 [00:00<?, ?it/s]"
      ]
     },
     "metadata": {},
     "output_type": "display_data"
    },
    {
     "data": {
      "text/markdown": [
       "# 與 Johnson 2017 資料所算出之 VIX 進行相關性比對，correlation : 0.9928"
      ],
      "text/plain": [
       "<IPython.core.display.Markdown object>"
      ]
     },
     "execution_count": 38,
     "metadata": {},
     "output_type": "execute_result"
    }
   ],
   "source": [
    "### 簡單資料處理，取 2019 前半年數據\n",
    "JS_MKT_data = pd.read_csv('/Users/changshuowen/112_2/期貨與選擇權市場/VIX/data/vixts.csv').iloc[4:, :2]\n",
    "JS_MKT_data.columns = ['date', 'Vol_JS']\n",
    "JS_MKT_data['date'] = pd.to_datetime(JS_MKT_data['date'])\n",
    "JS_MKT_data['Vol_JS'] = JS_MKT_data['Vol_JS'].astype(float)\n",
    "JS_MKT_data = JS_MKT_data.loc[(JS_MKT_data['date'] >= '2019-01-02')].reset_index(drop=True)\n",
    "### 計算 Vol -> VIX\n",
    "def VIX(row):\n",
    "    return (row['Vol_JS'] ** 0.5) * 100\n",
    "JS_MKT_data['VIX_JS'] = JS_MKT_data.progress_apply(VIX, axis=1)\n",
    "# JS_MKT_data.info()\n",
    "### 輸出相關係數\n",
    "correl = round(final_result['VIX'].corr(JS_MKT_data['VIX_JS']), 4)\n",
    "Markdown('# {}'.format(\"與 Johnson 2017 資料所算出之 VIX 進行相關性比對，correlation : \" + str(correl)))"
   ]
  },
  {
   "cell_type": "markdown",
   "id": "82ff37bc",
   "metadata": {},
   "source": [
    "<b><font size=\"4\">針對歷史市場 VIX 資料進行相關性比對<br></font></b>"
   ]
  },
  {
   "cell_type": "code",
   "execution_count": 39,
   "id": "a3b0a5b3",
   "metadata": {},
   "outputs": [
    {
     "data": {
      "text/markdown": [
       "# 與市場歷史 VIX 進行相關性比對，correlation : 0.9967"
      ],
      "text/plain": [
       "<IPython.core.display.Markdown object>"
      ]
     },
     "execution_count": 39,
     "metadata": {},
     "output_type": "execute_result"
    }
   ],
   "source": [
    "### 簡單資料處理，取 2019 前半年數據\n",
    "VIX_MKT_data = pd.read_csv('/Users/changshuowen/112_2/期貨與選擇權市場/VIX/data/^VIX.csv')[['Date', 'Adj Close']]\n",
    "VIX_MKT_data.columns = ['date', 'VIX_MKT']\n",
    "VIX_MKT_data['date'] = pd.to_datetime(VIX_MKT_data['date'])\n",
    "VIX_MKT_data['VIX_MKT'] = VIX_MKT_data['VIX_MKT'].astype(str)\n",
    "VIX_MKT_data = VIX_MKT_data[(VIX_MKT_data['VIX_MKT'] != 'nan')].reset_index(drop=True)\n",
    "VIX_MKT_data['VIX_MKT'] = VIX_MKT_data['VIX_MKT'].astype(float)\n",
    "# VIX_MKT_data.info()\n",
    "### 輸出相關係數\n",
    "correl = round(final_result['VIX'].corr(VIX_MKT_data['VIX_MKT']), 4)\n",
    "Markdown('# {}'.format(\"與市場歷史 VIX 進行相關性比對，correlation : \" + str(correl)))"
   ]
  },
  {
   "cell_type": "markdown",
   "id": "56cba0c3",
   "metadata": {},
   "source": [
    "<h1><b><font size=\"\">結束</font></b></h1>"
   ]
  }
 ],
 "metadata": {
  "kernelspec": {
   "display_name": "Python 3 (ipykernel)",
   "language": "python",
   "name": "python3"
  },
  "language_info": {
   "codemirror_mode": {
    "name": "ipython",
    "version": 3
   },
   "file_extension": ".py",
   "mimetype": "text/x-python",
   "name": "python",
   "nbconvert_exporter": "python",
   "pygments_lexer": "ipython3",
   "version": "3.9.13"
  }
 },
 "nbformat": 4,
 "nbformat_minor": 5
}
